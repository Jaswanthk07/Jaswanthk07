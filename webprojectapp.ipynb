{
  "cells": [
    {
      "cell_type": "markdown",
      "metadata": {
        "id": "view-in-github",
        "colab_type": "text"
      },
      "source": [
        "<a href=\"https://colab.research.google.com/github/Jaswanthk07/Jaswanthk07/blob/main/webprojectapp.ipynb\" target=\"_parent\"><img src=\"https://colab.research.google.com/assets/colab-badge.svg\" alt=\"Open In Colab\"/></a>"
      ]
    },
    {
      "cell_type": "markdown",
      "metadata": {
        "id": "8KqherxNfaBQ"
      },
      "source": [
        "## **CREATING THE MODEL**"
      ]
    },
    {
      "cell_type": "code",
      "execution_count": 3,
      "metadata": {
        "id": "SZ7OGmolMqu4"
      },
      "outputs": [],
      "source": [
        "import torch\n",
        "import torch.nn as nn\n",
        "import torch.optim as optim\n",
        "import torchvision\n",
        "import torchvision.transforms as transforms\n",
        "from torch.utils.data import DataLoader\n",
        "import torch.nn.functional as F"
      ]
    },
    {
      "cell_type": "code",
      "execution_count": 4,
      "metadata": {
        "id": "LgF_1cNyNHhz"
      },
      "outputs": [],
      "source": [
        "# Device configuration\n",
        "device = torch.device('cuda' if torch.cuda.is_available() else 'cpu')\n",
        "\n",
        "# Hyperparameters\n",
        "num_epochs = 25\n",
        "batch_size = 128\n",
        "learning_rate = 0.001"
      ]
    },
    {
      "cell_type": "code",
      "execution_count": 5,
      "metadata": {
        "id": "xqEIyIVsNIvm"
      },
      "outputs": [],
      "source": [
        "# Data augmentation and normalization for training\n",
        "train_transform = transforms.Compose([\n",
        "    transforms.RandomHorizontalFlip(),\n",
        "    transforms.RandomCrop(32, padding=4),\n",
        "    transforms.ToTensor(),\n",
        "    transforms.Normalize((0.5, 0.5, 0.5), (0.5, 0.5, 0.5)),\n",
        "])\n",
        "\n",
        "# Normalization for validation/test\n",
        "val_transform = transforms.Compose([\n",
        "    transforms.ToTensor(),\n",
        "    transforms.Normalize((0.5, 0.5, 0.5), (0.5, 0.5, 0.5)),\n",
        "])\n"
      ]
    },
    {
      "cell_type": "code",
      "execution_count": 6,
      "metadata": {
        "colab": {
          "base_uri": "https://localhost:8080/"
        },
        "id": "5TnLIJTqNNtb",
        "outputId": "da0dd0b1-3bc8-48b8-b41b-313078accdb9"
      },
      "outputs": [
        {
          "output_type": "stream",
          "name": "stdout",
          "text": [
            "Downloading https://www.cs.toronto.edu/~kriz/cifar-10-python.tar.gz to ./data/cifar-10-python.tar.gz\n"
          ]
        },
        {
          "output_type": "stream",
          "name": "stderr",
          "text": [
            "100%|██████████| 170498071/170498071 [00:02<00:00, 70847566.45it/s]\n"
          ]
        },
        {
          "output_type": "stream",
          "name": "stdout",
          "text": [
            "Extracting ./data/cifar-10-python.tar.gz to ./data\n",
            "Files already downloaded and verified\n"
          ]
        }
      ],
      "source": [
        "# CIFAR-10 dataset\n",
        "train_dataset = torchvision.datasets.CIFAR10(root='./data', train=True,\n",
        "                                             download=True, transform=train_transform)\n",
        "val_dataset = torchvision.datasets.CIFAR10(root='./data', train=False,\n",
        "                                           download=True, transform=val_transform)\n",
        "\n",
        "# Data loaders\n",
        "train_loader = DataLoader(train_dataset, batch_size=batch_size, shuffle=True)\n",
        "val_loader = DataLoader(val_dataset, batch_size=batch_size, shuffle=False)\n"
      ]
    },
    {
      "cell_type": "code",
      "execution_count": 7,
      "metadata": {
        "id": "muwqGXBLNSlA"
      },
      "outputs": [],
      "source": [
        "# Define the model\n",
        "class SimpleCNN(nn.Module):\n",
        "    def __init__(self):\n",
        "        super(SimpleCNN, self).__init__()\n",
        "        self.conv1 = nn.Conv2d(3, 32, kernel_size=3, padding=1)\n",
        "        self.conv2 = nn.Conv2d(32, 64, kernel_size=3, padding=1)\n",
        "        self.pool = nn.MaxPool2d(2, 2)\n",
        "        self.fc1 = nn.Linear(64 * 8 * 8, 512)\n",
        "        self.fc2 = nn.Linear(512, 10)\n",
        "\n",
        "    def forward(self, x):\n",
        "        x = self.pool(F.relu(self.conv1(x)))\n",
        "        x = self.pool(F.relu(self.conv2(x)))\n",
        "        x = x.view(-1, 64 * 8 * 8)\n",
        "        x = F.relu(self.fc1(x))\n",
        "        x = self.fc2(x)\n",
        "        return x\n",
        "\n",
        "model = SimpleCNN().to(device)\n"
      ]
    },
    {
      "cell_type": "code",
      "execution_count": 8,
      "metadata": {
        "id": "dVb_iy5RNbxO",
        "colab": {
          "base_uri": "https://localhost:8080/"
        },
        "outputId": "f628b6ae-5c7f-46cb-e5ef-71ba001cc680"
      },
      "outputs": [
        {
          "output_type": "stream",
          "name": "stderr",
          "text": [
            "/usr/local/lib/python3.10/dist-packages/torch/optim/lr_scheduler.py:28: UserWarning: The verbose parameter is deprecated. Please use get_last_lr() to access the learning rate.\n",
            "  warnings.warn(\"The verbose parameter is deprecated. Please use get_last_lr() \"\n"
          ]
        }
      ],
      "source": [
        "# Loss and optimizer\n",
        "criterion = nn.CrossEntropyLoss()\n",
        "optimizer = optim.Adam(model.parameters(), lr=learning_rate)\n",
        "\n",
        "# Learning rate scheduler\n",
        "scheduler = optim.lr_scheduler.ReduceLROnPlateau(optimizer, mode='max', patience=5, verbose=True)"
      ]
    },
    {
      "cell_type": "code",
      "execution_count": 9,
      "metadata": {
        "id": "b1Ao9VsmNiBZ"
      },
      "outputs": [],
      "source": [
        "# Function to calculate accuracy\n",
        "def accuracy(outputs, labels):\n",
        "    _, predicted = torch.max(outputs, 1)\n",
        "    correct = (predicted == labels).sum().item()\n",
        "    return correct / labels.size(0)\n"
      ]
    },
    {
      "cell_type": "code",
      "execution_count": 10,
      "metadata": {
        "colab": {
          "base_uri": "https://localhost:8080/"
        },
        "id": "FBeEFAB9Nnmx",
        "outputId": "4537b519-b5c9-4c3d-df19-e80a0b832fd3"
      },
      "outputs": [
        {
          "output_type": "stream",
          "name": "stdout",
          "text": [
            "Epoch [1/25], Train Loss: 1.5446, Train Acc: 0.4366, Val Loss: 1.2082, Val Acc: 0.5680\n",
            "Epoch [2/25], Train Loss: 1.1933, Train Acc: 0.5705, Val Loss: 0.9950, Val Acc: 0.6465\n",
            "Epoch [3/25], Train Loss: 1.0464, Train Acc: 0.6254, Val Loss: 0.9209, Val Acc: 0.6789\n",
            "Epoch [4/25], Train Loss: 0.9439, Train Acc: 0.6665, Val Loss: 0.8329, Val Acc: 0.7062\n",
            "Epoch [5/25], Train Loss: 0.8785, Train Acc: 0.6901, Val Loss: 0.7916, Val Acc: 0.7303\n",
            "Epoch [6/25], Train Loss: 0.8258, Train Acc: 0.7109, Val Loss: 0.7936, Val Acc: 0.7297\n",
            "Epoch [7/25], Train Loss: 0.7862, Train Acc: 0.7234, Val Loss: 0.7431, Val Acc: 0.7423\n",
            "Epoch [8/25], Train Loss: 0.7489, Train Acc: 0.7382, Val Loss: 0.7078, Val Acc: 0.7547\n",
            "Epoch [9/25], Train Loss: 0.7120, Train Acc: 0.7494, Val Loss: 0.6896, Val Acc: 0.7595\n",
            "Epoch [10/25], Train Loss: 0.6904, Train Acc: 0.7579, Val Loss: 0.6929, Val Acc: 0.7647\n",
            "Epoch [11/25], Train Loss: 0.6658, Train Acc: 0.7676, Val Loss: 0.6706, Val Acc: 0.7727\n",
            "Epoch [12/25], Train Loss: 0.6498, Train Acc: 0.7720, Val Loss: 0.6955, Val Acc: 0.7578\n",
            "Epoch [13/25], Train Loss: 0.6304, Train Acc: 0.7788, Val Loss: 0.6645, Val Acc: 0.7736\n",
            "Epoch [14/25], Train Loss: 0.6091, Train Acc: 0.7856, Val Loss: 0.6299, Val Acc: 0.7833\n",
            "Epoch [15/25], Train Loss: 0.5935, Train Acc: 0.7923, Val Loss: 0.6346, Val Acc: 0.7853\n",
            "Epoch [16/25], Train Loss: 0.5797, Train Acc: 0.7964, Val Loss: 0.6224, Val Acc: 0.7918\n",
            "Epoch [17/25], Train Loss: 0.5656, Train Acc: 0.8020, Val Loss: 0.6460, Val Acc: 0.7783\n",
            "Epoch [18/25], Train Loss: 0.5514, Train Acc: 0.8065, Val Loss: 0.6127, Val Acc: 0.7952\n",
            "Epoch [19/25], Train Loss: 0.5397, Train Acc: 0.8104, Val Loss: 0.6074, Val Acc: 0.7941\n",
            "Epoch [20/25], Train Loss: 0.5267, Train Acc: 0.8151, Val Loss: 0.6179, Val Acc: 0.7926\n",
            "Epoch [21/25], Train Loss: 0.5175, Train Acc: 0.8194, Val Loss: 0.6133, Val Acc: 0.7915\n",
            "Epoch [22/25], Train Loss: 0.5102, Train Acc: 0.8218, Val Loss: 0.6206, Val Acc: 0.7922\n",
            "Epoch [23/25], Train Loss: 0.4988, Train Acc: 0.8251, Val Loss: 0.6237, Val Acc: 0.7962\n",
            "Epoch [24/25], Train Loss: 0.4844, Train Acc: 0.8310, Val Loss: 0.6035, Val Acc: 0.8079\n",
            "Epoch [25/25], Train Loss: 0.4781, Train Acc: 0.8331, Val Loss: 0.6042, Val Acc: 0.8017\n",
            "Finished Training\n"
          ]
        }
      ],
      "source": [
        "# Training the model\n",
        "for epoch in range(num_epochs):\n",
        "    model.train()\n",
        "    train_loss = 0.0\n",
        "    train_acc = 0.0\n",
        "    for inputs, labels in train_loader:\n",
        "        inputs, labels = inputs.to(device), labels.to(device)\n",
        "        optimizer.zero_grad()\n",
        "        outputs = model(inputs)\n",
        "        loss = criterion(outputs, labels)\n",
        "        loss.backward()\n",
        "        optimizer.step()\n",
        "        train_loss += loss.item() * inputs.size(0)\n",
        "        train_acc += accuracy(outputs, labels) * inputs.size(0)\n",
        "        # Average loss and accuracy\n",
        "    train_loss = train_loss / len(train_loader.dataset)\n",
        "    train_acc = train_acc / len(train_loader.dataset)\n",
        "\n",
        "    # Validation\n",
        "    model.eval()\n",
        "    val_loss = 0.0\n",
        "    val_acc = 0.0\n",
        "    with torch.no_grad():\n",
        "        for inputs, labels in val_loader:\n",
        "            inputs, labels = inputs.to(device), labels.to(device)\n",
        "            outputs = model(inputs)\n",
        "            loss = criterion(outputs, labels)\n",
        "            val_loss += loss.item() * inputs.size(0)\n",
        "            val_acc += accuracy(outputs, labels) * inputs.size(0)\n",
        "\n",
        "    # Average validation loss and accuracy\n",
        "    val_loss = val_loss / len(val_loader.dataset)\n",
        "    val_acc = val_acc / len(val_loader.dataset)\n",
        "\n",
        "    # Adjust learning rate based on validation accuracy\n",
        "    scheduler.step(val_acc)\n",
        "\n",
        "    # Print training progress\n",
        "    print(f'Epoch [{epoch+1}/{num_epochs}], '\n",
        "          f'Train Loss: {train_loss:.4f}, Train Acc: {train_acc:.4f}, '\n",
        "          f'Val Loss: {val_loss:.4f}, Val Acc: {val_acc:.4f}')\n",
        "\n",
        "print('Finished Training')"
      ]
    },
    {
      "cell_type": "markdown",
      "metadata": {
        "id": "u9AuYQkUfk6b"
      },
      "source": [
        "## **TESTING THE MODEL ON A SAMPLE IMAGE**"
      ]
    },
    {
      "cell_type": "code",
      "execution_count": 11,
      "metadata": {
        "id": "KG7aVQB7YbOC"
      },
      "outputs": [],
      "source": [
        "# Load the image\n",
        "from PIL import Image\n",
        "img_path = \"/content/images/image.jpg\"\n",
        "image = Image.open(img_path)"
      ]
    },
    {
      "cell_type": "markdown",
      "metadata": {
        "id": "4Jk7YL5Sp_n1"
      },
      "source": []
    },
    {
      "cell_type": "code",
      "execution_count": 12,
      "metadata": {
        "colab": {
          "base_uri": "https://localhost:8080/"
        },
        "id": "plELLMVHNovE",
        "outputId": "dd2aa204-d678-4eb7-88de-a5696550f81b"
      },
      "outputs": [
        {
          "output_type": "stream",
          "name": "stdout",
          "text": [
            "torch.Size([3, 32, 32])\n"
          ]
        }
      ],
      "source": [
        "transform = transforms.Compose([\n",
        "    transforms.Resize((32, 32)),\n",
        "    transforms.ToTensor(),\n",
        "    transforms.Normalize(mean=[0.4914, 0.4822, 0.4465], std=[0.2023, 0.1994, 0.2010])  # Example normalization\n",
        "])\n",
        "\n",
        "# Apply the transformation\n",
        "normalized_tensor_image = transform(image)\n",
        "\n",
        "# Verify the size of the normalized tensor\n",
        "print(normalized_tensor_image.size())  # Should print torch.Size([3, 32, 32])\n"
      ]
    },
    {
      "cell_type": "code",
      "execution_count": 13,
      "metadata": {
        "colab": {
          "base_uri": "https://localhost:8080/"
        },
        "id": "UgQ00nfzYvXR",
        "outputId": "d10e55bb-ec33-4c55-aff4-40e1be011ab7"
      },
      "outputs": [
        {
          "output_type": "stream",
          "name": "stdout",
          "text": [
            "Predicted class: horse\n"
          ]
        }
      ],
      "source": [
        "model.eval()\n",
        "classes = ('plane', 'car', 'bird', 'cat',\n",
        "           'deer', 'dog', 'frog', 'horse', 'ship', 'truck')\n",
        "with torch.no_grad():\n",
        "    op = model(normalized_tensor_image)\n",
        "    _, predicted = torch.max(op, 1)\n",
        "\n",
        "# Print the predicted class\n",
        "print(f'Predicted class: {classes[predicted.item()]}')"
      ]
    },
    {
      "cell_type": "code",
      "execution_count": 14,
      "metadata": {
        "colab": {
          "base_uri": "https://localhost:8080/"
        },
        "id": "NrGiCcYIZCJq",
        "outputId": "9035ca57-df15-4d37-addf-f3fbd3b82c39"
      },
      "outputs": [
        {
          "output_type": "stream",
          "name": "stdout",
          "text": [
            " plane: 0.0009\n",
            " car: 0.0008\n",
            " bird: 0.0000\n",
            " cat: 0.1326\n",
            " deer: 0.0002\n",
            " dog: 0.1197\n",
            " frog: 0.0000\n",
            " horse: 0.7353\n",
            " ship: 0.0000\n",
            " truck: 0.0104\n"
          ]
        }
      ],
      "source": [
        "# Classify the image and get probabilities\n",
        "with torch.no_grad():\n",
        "    outputs = model(normalized_tensor_image)\n",
        "    probabilities = F.softmax(outputs, dim=1)  # Apply softmax to get probabilities\n",
        "\n",
        "# Print the probabilities for each class\n",
        "probabilities = probabilities.cpu().numpy().flatten()  # Move to CPU and flatten the tensor\n",
        "for i, prob in enumerate(probabilities):\n",
        "    print(f' {classes[i]}: {prob:.4f}')"
      ]
    },
    {
      "cell_type": "markdown",
      "source": [
        "## **app.py**"
      ],
      "metadata": {
        "id": "fb-A_oC4Lvxo"
      }
    },
    {
      "cell_type": "code",
      "source": [
        "%%writefile app.py\n",
        "import streamlit as st\n",
        "from PIL import Image\n",
        "import torch\n",
        "import torch.nn as nn\n",
        "import torch.nn.functional as F\n",
        "import torchvision.transforms as transforms\n",
        "\n",
        "# Ensure you have the correct device\n",
        "device = torch.device(\"cuda\" if torch.cuda.is_available() else \"cpu\")\n",
        "\n",
        "# Define the model\n",
        "class SimpleCNN(torch.nn.Module):\n",
        "    def __init__(self):\n",
        "        super(SimpleCNN, self).__init__()\n",
        "        self.conv1 = nn.Conv2d(3, 32, kernel_size=3, padding=1)\n",
        "        self.conv2 = nn.Conv2d(32, 64, kernel_size=3, padding=1)\n",
        "        self.pool = nn.MaxPool2d(2, 2)\n",
        "        self.fc1 = nn.Linear(64 * 8 * 8, 512)\n",
        "        self.fc2 = nn.Linear(512, 10)\n",
        "\n",
        "    def forward(self, x):\n",
        "        x = self.pool(F.relu(self.conv1(x)))\n",
        "        x = self.pool(F.relu(self.conv2(x)))\n",
        "        x = x.view(-1, 64 * 8 * 8)\n",
        "        x = F.relu(self.fc1(x))\n",
        "        x = self.fc2(x)\n",
        "        return x\n",
        "\n",
        "# Load the trained model weights\n",
        "model = SimpleCNN().to(device)\n",
        "model.load_state_dict(torch.load('cifar10_model.pth', map_location=device))\n",
        "model.eval()\n",
        "\n",
        "# Define the image transformation\n",
        "transform = transforms.Compose([\n",
        "    transforms.Resize((32, 32)),\n",
        "    transforms.ToTensor(),\n",
        "    transforms.Normalize((0.5, 0.5, 0.5), (0.5, 0.5, 0.5))\n",
        "])\n",
        "\n",
        "# Define the classes\n",
        "classes = ['plane', 'car', 'bird', 'cat', 'deer', 'dog', 'frog', 'horse', 'ship', 'truck']\n",
        "\n",
        "def predict(image):\n",
        "    image = transform(image).unsqueeze(0).to(device)\n",
        "    with torch.no_grad():\n",
        "        outputs = model(image)\n",
        "        _, predicted = torch.max(outputs.data, 1)\n",
        "    return classes[predicted.item()]\n",
        "\n",
        "# Streamlit app\n",
        "st.title(\"Image Classification with CIFAR-10\")\n",
        "st.write(\"Upload an image to classify\")\n",
        "\n",
        "uploaded_file = st.file_uploader(\"Choose an image...\", type=[\"jpg\", \"jpeg\", \"png\"])\n",
        "if uploaded_file is not None:\n",
        "    image = Image.open(uploaded_file)\n",
        "    st.image(image, caption='Uploaded Image.', use_column_width=True)\n",
        "    st.write(\"\")\n",
        "    st.write(\"Classifying...\")\n",
        "    label = predict(image)\n",
        "    st.write(f\"The uploaded image is classified as: {label}\")"
      ],
      "metadata": {
        "colab": {
          "base_uri": "https://localhost:8080/"
        },
        "id": "6MmnlOYaLsXF",
        "outputId": "6c2cad2e-7ef1-4930-f440-485f47d36690"
      },
      "execution_count": 15,
      "outputs": [
        {
          "output_type": "stream",
          "name": "stdout",
          "text": [
            "Writing app.py\n"
          ]
        }
      ]
    },
    {
      "cell_type": "markdown",
      "metadata": {
        "id": "FytH31fff8_G"
      },
      "source": [
        "## **WEB APP RELATED**"
      ]
    },
    {
      "cell_type": "code",
      "execution_count": 16,
      "metadata": {
        "id": "n53RoMcQgA84"
      },
      "outputs": [],
      "source": [
        "# save\n",
        "torch.save(model.state_dict(), 'cifar10_model.pth')"
      ]
    },
    {
      "cell_type": "code",
      "execution_count": 17,
      "metadata": {
        "id": "u-UDQnDZlgiV",
        "colab": {
          "base_uri": "https://localhost:8080/"
        },
        "outputId": "a1054e31-4b19-4e01-ddc4-4e1930bb7e58"
      },
      "outputs": [
        {
          "output_type": "stream",
          "name": "stdout",
          "text": [
            "\u001b[2K     \u001b[90m━━━━━━━━━━━━━━━━━━━━━━━━━━━━━━━━━━━━━━━━\u001b[0m \u001b[32m8.6/8.6 MB\u001b[0m \u001b[31m14.1 MB/s\u001b[0m eta \u001b[36m0:00:00\u001b[0m\n",
            "\u001b[2K     \u001b[90m━━━━━━━━━━━━━━━━━━━━━━━━━━━━━━━━━━━━━━━━\u001b[0m \u001b[32m207.3/207.3 kB\u001b[0m \u001b[31m16.0 MB/s\u001b[0m eta \u001b[36m0:00:00\u001b[0m\n",
            "\u001b[2K     \u001b[90m━━━━━━━━━━━━━━━━━━━━━━━━━━━━━━━━━━━━━━━━\u001b[0m \u001b[32m6.9/6.9 MB\u001b[0m \u001b[31m34.9 MB/s\u001b[0m eta \u001b[36m0:00:00\u001b[0m\n",
            "\u001b[2K     \u001b[90m━━━━━━━━━━━━━━━━━━━━━━━━━━━━━━━━━━━━━━━━\u001b[0m \u001b[32m83.0/83.0 kB\u001b[0m \u001b[31m7.9 MB/s\u001b[0m eta \u001b[36m0:00:00\u001b[0m\n",
            "\u001b[2K     \u001b[90m━━━━━━━━━━━━━━━━━━━━━━━━━━━━━━━━━━━━━━━━\u001b[0m \u001b[32m62.7/62.7 kB\u001b[0m \u001b[31m4.7 MB/s\u001b[0m eta \u001b[36m0:00:00\u001b[0m\n",
            "\u001b[?25h"
          ]
        }
      ],
      "source": [
        "!pip install streamlit -q"
      ]
    },
    {
      "cell_type": "code",
      "execution_count": 37,
      "metadata": {
        "colab": {
          "base_uri": "https://localhost:8080/"
        },
        "id": "6IrFkM0BmK31",
        "outputId": "d6bef6be-e752-4e15-9121-3ba5689f636d"
      },
      "outputs": [
        {
          "output_type": "stream",
          "name": "stdout",
          "text": [
            "104.196.220.62\n"
          ]
        }
      ],
      "source": [
        "!wget -q -O - ipv4.icanhazip.com"
      ]
    },
    {
      "cell_type": "code",
      "source": [
        "!streamlit run app.py &>/dev/null & npx localtunnel --port 8501"
      ],
      "metadata": {
        "colab": {
          "base_uri": "https://localhost:8080/"
        },
        "id": "50HnRneF8Qoq",
        "outputId": "02494719-d1cf-45ca-f365-e13a8bfd723f"
      },
      "execution_count": null,
      "outputs": [
        {
          "output_type": "stream",
          "name": "stdout",
          "text": [
            "\u001b[K\u001b[?25hnpx: installed 22 in 3.441s\n",
            "your url is: https://tasty-buckets-drive.loca.lt\n"
          ]
        }
      ]
    },
    {
      "cell_type": "markdown",
      "source": [
        "## **DEPLOYMENT**"
      ],
      "metadata": {
        "id": "idW-mcMH9FkY"
      }
    },
    {
      "cell_type": "code",
      "source": [
        "!pip freeze > requirements.txt"
      ],
      "metadata": {
        "id": "Hpfn27Fp92N-"
      },
      "execution_count": 41,
      "outputs": []
    },
    {
      "cell_type": "code",
      "source": [
        "from google.colab import files\n",
        "files.download('requirements.txt')\n"
      ],
      "metadata": {
        "colab": {
          "base_uri": "https://localhost:8080/",
          "height": 17
        },
        "id": "dYI61ji3-Du-",
        "outputId": "a2a5200f-0384-4e5f-9812-9e790d84c7cf"
      },
      "execution_count": 42,
      "outputs": [
        {
          "output_type": "display_data",
          "data": {
            "text/plain": [
              "<IPython.core.display.Javascript object>"
            ],
            "application/javascript": [
              "\n",
              "    async function download(id, filename, size) {\n",
              "      if (!google.colab.kernel.accessAllowed) {\n",
              "        return;\n",
              "      }\n",
              "      const div = document.createElement('div');\n",
              "      const label = document.createElement('label');\n",
              "      label.textContent = `Downloading \"${filename}\": `;\n",
              "      div.appendChild(label);\n",
              "      const progress = document.createElement('progress');\n",
              "      progress.max = size;\n",
              "      div.appendChild(progress);\n",
              "      document.body.appendChild(div);\n",
              "\n",
              "      const buffers = [];\n",
              "      let downloaded = 0;\n",
              "\n",
              "      const channel = await google.colab.kernel.comms.open(id);\n",
              "      // Send a message to notify the kernel that we're ready.\n",
              "      channel.send({})\n",
              "\n",
              "      for await (const message of channel.messages) {\n",
              "        // Send a message to notify the kernel that we're ready.\n",
              "        channel.send({})\n",
              "        if (message.buffers) {\n",
              "          for (const buffer of message.buffers) {\n",
              "            buffers.push(buffer);\n",
              "            downloaded += buffer.byteLength;\n",
              "            progress.value = downloaded;\n",
              "          }\n",
              "        }\n",
              "      }\n",
              "      const blob = new Blob(buffers, {type: 'application/binary'});\n",
              "      const a = document.createElement('a');\n",
              "      a.href = window.URL.createObjectURL(blob);\n",
              "      a.download = filename;\n",
              "      div.appendChild(a);\n",
              "      a.click();\n",
              "      div.remove();\n",
              "    }\n",
              "  "
            ]
          },
          "metadata": {}
        },
        {
          "output_type": "display_data",
          "data": {
            "text/plain": [
              "<IPython.core.display.Javascript object>"
            ],
            "application/javascript": [
              "download(\"download_1f8019f2-aaf2-4c35-8618-a6df55025250\", \"requirements.txt\", 10779)"
            ]
          },
          "metadata": {}
        }
      ]
    },
    {
      "cell_type": "code",
      "source": [
        "required_packages = [\"streamlit\", \"torch\", \"torchvision\"]\n",
        "with open('requirements.txt', 'w') as f:\n",
        "    for package in required_packages:\n",
        "        f.write(package + \"\\n\")\n"
      ],
      "metadata": {
        "id": "lyqHONC7-PCd"
      },
      "execution_count": 43,
      "outputs": []
    }
  ],
  "metadata": {
    "colab": {
      "provenance": [],
      "include_colab_link": true
    },
    "kernelspec": {
      "display_name": "Python 3",
      "name": "python3"
    },
    "language_info": {
      "name": "python"
    }
  },
  "nbformat": 4,
  "nbformat_minor": 0
}